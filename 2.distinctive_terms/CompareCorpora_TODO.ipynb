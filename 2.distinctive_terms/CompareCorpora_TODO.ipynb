{
 "cells": [
  {
   "cell_type": "markdown",
   "metadata": {},
   "source": [
    "This notebook explores methods for comparing two different textual datasets to identify the terms that are distinct to each one:\n",
    "\n",
    "* Difference of proportions (described in [Monroe et al. 2009, Fighting Words](http://languagelog.ldc.upenn.edu/myl/Monroe.pdf) section 3.2.2\n",
    "* Mann-Whitney rank-sums test (described in [Kilgarriff 2001, Comparing Corpora](https://www.sketchengine.eu/wp-content/uploads/comparing_corpora_2001.pdf), section 2.3)"
   ]
  },
  {
   "cell_type": "code",
   "execution_count": 6,
   "metadata": {},
   "outputs": [],
   "source": [
    "import sys, operator\n",
    "from collections import Counter\n",
    "from scipy.stats import mannwhitneyu"
   ]
  },
  {
   "cell_type": "code",
   "execution_count": 7,
   "metadata": {},
   "outputs": [],
   "source": [
    "# the convote data is already tokenized so just split on whitespace\n",
    "repub_tokens=open(\"../data/repub.convote.txt\", encoding=\"utf-8\").read().split(\" \")\n",
    "dem_tokens=open(\"../data/dem.convote.txt\", encoding=\"utf-8\").read().split(\" \")"
   ]
  },
  {
   "cell_type": "markdown",
   "metadata": {},
   "source": [
    "Q1: First, calculate the simple \"difference of proportions\" measure from Monroe et al.'s \"Fighting Words\", section 3.2.2.  What are the top ten terms in this measurement that are most republican and most democrat?"
   ]
  },
  {
   "cell_type": "code",
   "execution_count": 16,
   "metadata": {},
   "outputs": [],
   "source": [
    "## Preprocess\n",
    "# Remove punctuations that are not informative: comma, full stop, hyphen, empty character.\n",
    "PLAIN_PUNCT = ['.', ',', '-', '--', '']\n",
    "repub_tokens = [x for x in repub_tokens if x not in PLAIN_PUNCT]\n",
    "dem_tokens = [x for x in dem_tokens if x not in PLAIN_PUNCT]"
   ]
  },
  {
   "cell_type": "code",
   "execution_count": 11,
   "metadata": {},
   "outputs": [],
   "source": [
    "def difference_of_proportions(one_tokens, two_tokens):\n",
    "    # your code here\n",
    "    freq_dict1 = Counter(one_tokens)\n",
    "    freq_dict2 = Counter(two_tokens)\n",
    "    n1 = len(one_tokens)\n",
    "    n2 = len(two_tokens)\n",
    "    print(len(freq_dict1.keys()))\n",
    "    print(len(freq_dict2.keys()))\n",
    "\n",
    "    diff_dict = {}\n",
    "    \n",
    "    for w in set(freq_dict1.keys()).intersection(set(freq_dict2.keys())):\n",
    "        p1 = freq_dict1[w]/n1\n",
    "        p2 = freq_dict2[w]/n2\n",
    "        diff_prop = p1-p2\n",
    "        diff_dict[w] = diff_prop                                                \n",
    "    \n",
    "    ##if the word is not mentioned by the other corpus at all                                 \n",
    "    for w in set(freq_dict1.keys()).difference(set(freq_dict2.keys())): \n",
    "        p1 = freq_dict1[w]/n1\n",
    "        diff_prop = p1 - 0\n",
    "        diff_dict[w] = diff_prop\n",
    "    \n",
    "    for w in set(freq_dict2.keys()).difference(set(freq_dict1.keys())):\n",
    "        p2 = freq_dict2[w]/n2\n",
    "        diff_prop = 0 - p2\n",
    "        diff_dict[w] = diff_prop\n",
    "    return diff_dict\n",
    "        "
   ]
  },
  {
   "cell_type": "code",
   "execution_count": 17,
   "metadata": {},
   "outputs": [
    {
     "name": "stdout",
     "output_type": "stream",
     "text": [
      "15475\n",
      "13938\n"
     ]
    }
   ],
   "source": [
    "diff_dict = difference_of_proportions(dem_tokens, repub_tokens)"
   ]
  },
  {
   "cell_type": "code",
   "execution_count": 18,
   "metadata": {},
   "outputs": [
    {
     "name": "stdout",
     "output_type": "stream",
     "text": [
      "Most Republican words:\n",
      "('i', -0.0032929753891177554)\n",
      "('we', -0.0023808265674042563)\n",
      "('and', -0.001995265535181777)\n",
      "('of', -0.0017297224302114632)\n",
      "('chairman', -0.001099756559772172)\n",
      "('that', -0.0010955393393343796)\n",
      "('as', -0.001047375123724081)\n",
      "('a', -0.0009286487567812772)\n",
      "('gentleman', -0.0009272354531633575)\n",
      "('mr.', -0.000866433585557211)\n",
      "****\n",
      "Most Democratic words:\n",
      "('not', 0.0017953840754873105)\n",
      "('$', 0.0017246920195740645)\n",
      "('cuts', 0.0011791436974444912)\n",
      "('bill', 0.0011663230146247991)\n",
      "('republican', 0.0011447679771725845)\n",
      "('budget', 0.0010580517051874212)\n",
      "('billion', 0.0010081561042747087)\n",
      "('would', 0.0008780387846397406)\n",
      "('health', 0.0008609657671188335)\n",
      "('for', 0.000832992252975907)\n"
     ]
    }
   ],
   "source": [
    "most_repub = sorted(diff_dict.items(), key = lambda x: x[1])[:10]\n",
    "most_dem = sorted(diff_dict.items(), key = lambda x: x[1], reverse = True)[:10]\n",
    "\n",
    "print(\"Most Republican words:\")\n",
    "for r in most_repub:\n",
    "    print(r)\n",
    "print(\"****\\nMost Democratic words:\")    \n",
    "for d in most_dem:\n",
    "    print(d)"
   ]
  },
  {
   "cell_type": "markdown",
   "metadata": {},
   "source": [
    "Simply analyzing the difference in relative frequencies has a number of downsides: \n",
    "1.) As Monroe et al (2009) points out (and we can see here as well), it tends to emphasize high-frequency words (be sure you understand why). \n",
    "2.) We're not measuring whether a difference is statistically meaningful or just due to chance; the $\\chi^2$ test is one method (described in Kilgarriff 2001 and in the context of collocations in Manning and Schuetze [here](https://nlp.stanford.edu/fsnlp/promo/colloc.pdf)) that addresses the desideratum of finding statistically significant terms, but it too has another downside:\n",
    "3.) Simply counting up the total number of mentions of a term doesn't account for the \"burstiness\" of language -- if we see the word \"Dracula\" in a text, we're probably going to see it again in that same text.  The occurrence of words are not independent random events; they are tightly coupled with each other. If we're trying to understanding the robust differences between two corpora, we might prefer to prioritize words that show up more frequently *everywhere* in corpus A (but not in corpus B) over those that show up only very frequently within narrow slice of A (such as one text in a genre, one chapter in a book, or one speaker when measuring the differences between policital parties)."
   ]
  },
  {
   "cell_type": "markdown",
   "metadata": {},
   "source": [
    "Q2 (check-plus): One measure that does account for this burstiness is the adaptation by corpus linguistics of the non-parametric Mann-Whitney rank-sum test. The specific adaptation of this test for text is described in Kilgarriff 2001, section 2.3.  Implement this test using a fixed chunk size of 500 and the [scikit-learn mannwhitneyu function](https://docs.scipy.org/doc/scipy/reference/generated/scipy.stats.mannwhitneyu.html); what are the top ten terms in this measurement that are most republican and most democrat? "
   ]
  },
  {
   "cell_type": "code",
   "execution_count": 20,
   "metadata": {},
   "outputs": [],
   "source": [
    "t = list(mannwhitneyu([1,2,3],[2,3,4]))"
   ]
  },
  {
   "cell_type": "code",
   "execution_count": 21,
   "metadata": {},
   "outputs": [
    {
     "data": {
      "text/plain": [
       "2.0"
      ]
     },
     "execution_count": 21,
     "metadata": {},
     "output_type": "execute_result"
    }
   ],
   "source": [
    "t[0]"
   ]
  },
  {
   "cell_type": "code",
   "execution_count": 26,
   "metadata": {},
   "outputs": [],
   "source": [
    "#TODO: remove punctuation\n",
    "\n",
    "## Citation: code adapted from https://stackoverflow.com/questions/312443/how-do-you-split-a-list-into-evenly-sized-chunks\n",
    "def divide_chunks(chunk_size, ls):\n",
    "    for i in range(0, len(ls), chunk_size):\n",
    "        yield ls[i:i + chunk_size]\n",
    "\n",
    "def mann_whitney_analysis(one_tokens, two_tokens):\n",
    "    # your code here\n",
    "    \n",
    "    one_chunks = list(divide_chunks(500, one_tokens))\n",
    "    two_chunks = list(divide_chunks(500, two_tokens))\n",
    "    \n",
    "    freq_dict1 = Counter(one_tokens)\n",
    "    freq_dict2 = Counter(two_tokens)\n",
    "    \n",
    "    one_dict = {}\n",
    "    two_dict = {}\n",
    "\n",
    "    ## only using words that appear in both corpus because the test requires each sample size to be > 20\n",
    "    for word in set(freq_dict1.keys()).intersection(set(freq_dict2.keys())): \n",
    "        word_counts1 = []\n",
    "        word_counts2 = []\n",
    "        for c1 in one_chunks[:-1]: ## Leftover uneven chunks is discarded\n",
    "            wc = Counter(c1)\n",
    "            word_counts1.append(wc[word])\n",
    "        for c2 in two_chunks[:-1]:\n",
    "            wc = Counter(c2)\n",
    "            word_counts2.append(wc[word])\n",
    "        less_U_score = list(mannwhitneyu(word_counts1, word_counts2, alternative = \"less\"))\n",
    "        more_U_score = list(mannwhitneyu(word_counts1, word_counts2, alternative = \"greater\"))\n",
    "        two_dict[word] = less_U_score        \n",
    "        one_dict[word] = more_U_score\n",
    "    \n",
    "    return one_dict, two_dict\n",
    "\n",
    "#U1 + U2 = n1n2"
   ]
  },
  {
   "cell_type": "code",
   "execution_count": 27,
   "metadata": {},
   "outputs": [],
   "source": [
    "dem_dict, repub_dict = mann_whitney_analysis(dem_tokens, repub_tokens)"
   ]
  },
  {
   "cell_type": "code",
   "execution_count": 46,
   "metadata": {},
   "outputs": [
    {
     "name": "stdout",
     "output_type": "stream",
     "text": [
      "Top 10 words from Republicans (mann whitney ranking test):\n",
      "('i', [247686.5, 1.1592872881373215e-11])\n",
      "('gentleman', [260807.0, 4.790904828804205e-09])\n",
      "('important', [262048.0, 1.722437149982608e-09])\n",
      "('as', [263593.5, 3.422636280659407e-07])\n",
      "('support', [265245.0, 1.5795241686504472e-07])\n",
      "('may', [266898.5, 1.7649158778150073e-08])\n",
      "('thank', [269151.0, 1.1110670536357667e-07])\n",
      "('chairman', [269437.5, 1.871796332075302e-06])\n",
      "('some', [269718.0, 1.4795575389241594e-06])\n",
      "('and', [270318.5, 1.6134074124571757e-05])\n"
     ]
    }
   ],
   "source": [
    "print(\"Top 10 words from Republicans (mann whitney ranking test):\")\n",
    "repub10 = sorted(repub_dict.items(), key = lambda x: x[1])[:10]\n",
    "for word in repub10:\n",
    "    print(word)"
   ]
  },
  {
   "cell_type": "code",
   "execution_count": 48,
   "metadata": {},
   "outputs": [
    {
     "name": "stdout",
     "output_type": "stream",
     "text": [
      "Top 10 words from Democrats (mann whitney ranking test):\n",
      "('republican', [391025.5, 7.544689920813004e-39])\n",
      "('cuts', [364802.5, 8.794525913343548e-27])\n",
      "('$', [363043.0, 3.6705298040946054e-12])\n",
      "('not', [361343.5, 8.259394993039342e-10])\n",
      "('majority', [360874.0, 1.320203124308803e-17])\n",
      "('billion', [357353.5, 3.5467210394973643e-13])\n",
      "('administration', [351468.5, 9.457601798583503e-13])\n",
      "('republicans', [349844.0, 2.742561996311067e-16])\n",
      "('cut', [348380.5, 8.438723219700627e-15])\n",
      "('opposition', [348243.0, 9.35878959253233e-14])\n"
     ]
    }
   ],
   "source": [
    "print(\"Top 10 words from Democrats (mann whitney ranking test):\")\n",
    "dem10 = sorted(dem_dict.items(), key = lambda x: x[1], reverse = True)[:10]\n",
    "for word in dem10:\n",
    "    print(word)\n"
   ]
  }
 ],
 "metadata": {
  "kernelspec": {
   "display_name": "Python 3",
   "language": "python",
   "name": "python3"
  }
 },
 "nbformat": 4,
 "nbformat_minor": 2
}
