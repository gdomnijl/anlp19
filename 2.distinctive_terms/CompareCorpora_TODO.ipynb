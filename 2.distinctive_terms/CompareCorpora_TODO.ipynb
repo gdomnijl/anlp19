{
 "cells": [
  {
   "cell_type": "markdown",
   "metadata": {},
   "source": [
    "This notebook explores methods for comparing two different textual datasets to identify the terms that are distinct to each one:\n",
    "\n",
    "* Difference of proportions (described in [Monroe et al. 2009, Fighting Words](http://languagelog.ldc.upenn.edu/myl/Monroe.pdf) section 3.2.2\n",
    "* Mann-Whitney rank-sums test (described in [Kilgarriff 2001, Comparing Corpora](https://www.sketchengine.eu/wp-content/uploads/comparing_corpora_2001.pdf), section 2.3)"
   ]
  },
  {
   "cell_type": "code",
   "execution_count": 1,
   "metadata": {},
   "outputs": [],
   "source": [
    "import sys, operator\n",
    "from collections import Counter\n",
    "from scipy.stats import mannwhitneyu"
   ]
  },
  {
   "cell_type": "code",
   "execution_count": 2,
   "metadata": {},
   "outputs": [],
   "source": [
    "# the convote data is already tokenized so just split on whitespace\n",
    "repub_tokens=open(\"../data/repub.convote.txt\", encoding=\"utf-8\").read().split(\" \")\n",
    "dem_tokens=open(\"../data/dem.convote.txt\", encoding=\"utf-8\").read().split(\" \")"
   ]
  },
  {
   "cell_type": "markdown",
   "metadata": {},
   "source": [
    "Q1: First, calculate the simple \"difference of proportions\" measure from Monroe et al.'s \"Fighting Words\", section 3.2.2.  What are the top ten terms in this measurement that are most republican and most democrat?"
   ]
  },
  {
   "cell_type": "code",
   "execution_count": 14,
   "metadata": {},
   "outputs": [],
   "source": [
    "def difference_of_proportions(one_tokens, two_tokens):\n",
    "    # your code here\n",
    "    freq_dict1 = Counter(one_tokens)\n",
    "    freq_dict2 = Counter(two_tokens)\n",
    "    n1 = len(one_tokens)\n",
    "    n2 = len(two_tokens)\n",
    "    print(len(freq_dict1.keys()))\n",
    "    print(len(freq_dict2.keys()))\n",
    "\n",
    "    diff_dict = {}\n",
    "    \n",
    "    for w in set(freq_dict1.keys()).intersection(set(freq_dict2.keys())):\n",
    "        p1 = freq_dict1[w]/n1\n",
    "        p2 = freq_dict2[w]/n2\n",
    "        diff_prop = p1-p2\n",
    "        diff_dict[w] = diff_prop                                                \n",
    "                                                 \n",
    "    for w in set(freq_dict1.keys()).difference(set(freq_dict2.keys())): \n",
    "        if w in freq_dict1: ## TODO: if the word is not mentioned by Republicans at all\n",
    "            p1 = freq_dict1[w]/n1\n",
    "            diff_prop = p1 - 0\n",
    "        else:\n",
    "            p2 = freq_dict2[w1]/n2\n",
    "            diff_prop = 0 - p2\n",
    "        diff_dict[w] = diff_prop\n",
    "    return diff_dict\n",
    "        "
   ]
  },
  {
   "cell_type": "code",
   "execution_count": 15,
   "metadata": {},
   "outputs": [
    {
     "name": "stdout",
     "output_type": "stream",
     "text": [
      "15480\n",
      "13943\n"
     ]
    }
   ],
   "source": [
    "diff_dict = difference_of_proportions(dem_tokens, repub_tokens)"
   ]
  },
  {
   "cell_type": "code",
   "execution_count": 19,
   "metadata": {},
   "outputs": [
    {
     "data": {
      "text/plain": [
       "[('i', -0.002870948015418236),\n",
       " ('we', -0.0020739540633471117),\n",
       " ('and', -0.0017279456625680124),\n",
       " ('of', -0.0014950519581076668),\n",
       " (',', -0.00105321588184943),\n",
       " ('chairman', -0.0009598934247981516),\n",
       " ('that', -0.000945583476245123),\n",
       " ('as', -0.0009124972356492223),\n",
       " ('gentleman', -0.0008093810284795912),\n",
       " ('a', -0.0008020309007514565)]"
      ]
     },
     "execution_count": 19,
     "metadata": {},
     "output_type": "execute_result"
    }
   ],
   "source": [
    "most_repub = sorted(diff_dict.items(), key = lambda x: x[1])[:10]\n",
    "most_dem = sorted(diff_dict.items(), key = lambda x: x[1], reverse = True)[:10]\n",
    "print(most_)"
   ]
  },
  {
   "cell_type": "markdown",
   "metadata": {},
   "source": [
    "Simply analyzing the difference in relative frequencies has a number of downsides: 1.) As Monroe et al (2009) points out (and we can see here as well), it tends to emphasize high-frequency words (be sure you understand why).  2.) We're not measuring whether a difference is statistically meaningful or just due to chance; the $\\chi^2$ test is one method (described in Kilgarriff 2001 and in the context of collocations in Manning and Schuetze [here](https://nlp.stanford.edu/fsnlp/promo/colloc.pdf)) that addresses the desideratum of finding statistically significant terms, but it too has another downside: 3.) Simply counting up the total number of mentions of a term doesn't account for the \"burstiness\" of language -- if we see the word \"Dracula\" in a text, we're probably going to see it again in that same text.  The occurrence of words are not independent random events; they are tightly coupled with each other. If we're trying to understanding the robust differences between two corpora, we might prefer to prioritize words that show up more frequently *everywhere* in corpus A (but not in corpus B) over those that show up only very frequently within narrow slice of A (such as one text in a genre, one chapter in a book, or one speaker when measuring the differences between policital parties)."
   ]
  },
  {
   "cell_type": "markdown",
   "metadata": {},
   "source": [
    "Q2 (check-plus): One measure that does account for this burstiness is the adaptation by corpus linguistics of the non-parametric Mann-Whitney rank-sum test. The specific adaptation of this test for text is described in Kilgarriff 2001, section 2.3.  Implement this test using a fixed chunk size of 500 and the [scikit-learn mannwhitneyu function](https://docs.scipy.org/doc/scipy/reference/generated/scipy.stats.mannwhitneyu.html); what are the top ten terms in this measurement that are most republican and most democrat? "
   ]
  },
  {
   "cell_type": "code",
   "execution_count": null,
   "metadata": {},
   "outputs": [],
   "source": [
    "def mann_whitney_analysis(one_tokens, two_tokens):\n",
    "    # your code here"
   ]
  },
  {
   "cell_type": "code",
   "execution_count": null,
   "metadata": {},
   "outputs": [],
   "source": [
    "mann_whitney_analysis(dem_tokens, repub_tokens)"
   ]
  }
 ],
 "metadata": {
  "kernelspec": {
   "display_name": "Python 3",
   "language": "python",
   "name": "python3"
  },
  "language_info": {
   "codemirror_mode": {
    "name": "ipython",
    "version": 3
   },
   "file_extension": ".py",
   "mimetype": "text/x-python",
   "name": "python",
   "nbconvert_exporter": "python",
   "pygments_lexer": "ipython3",
   "version": "3.6.4"
  }
 },
 "nbformat": 4,
 "nbformat_minor": 2
}
