{
 "cells": [
  {
   "cell_type": "markdown",
   "metadata": {},
   "source": [
    "This notebook introduces the use of dictionaries for counting the frequency of some category of words in text, using sentiment (from the [AFINN sentiment lexicon](http://www2.imm.dtu.dk/pubdb/views/publication_details.php?id=6010)) in the time series data of tweets as an example.\n",
    "\n",
    "This notebook uses data from the AFINN sentiment lexicon; for other dictionaries in wide use, see [MPQA](https://mpqa.cs.pitt.edu/lexicons/subj_lexicon/) (free for use with registration) and [LIWC](http://liwc.wpengine.com) (commercial).\n",
    "\n",
    "Before running this notebook, install pandas:\n",
    "\n",
    "```sh\n",
    "source activate anlp\n",
    "conda install pandas=0.24.0\n",
    "conda install matplotlib=3.0.2\n",
    "```"
   ]
  },
  {
   "cell_type": "code",
   "execution_count": null,
   "metadata": {},
   "outputs": [],
   "source": [
    "# Time: 2:37p - "
   ]
  },
  {
   "cell_type": "code",
   "execution_count": 1,
   "metadata": {},
   "outputs": [],
   "source": [
    "import json\n",
    "import nltk\n",
    "import pandas as pd\n",
    "import matplotlib\n",
    "import re"
   ]
  },
  {
   "cell_type": "code",
   "execution_count": 2,
   "metadata": {},
   "outputs": [],
   "source": [
    "# read in json file of tweets and return a list of (date, tokenized text)\n",
    "def read_tweets_from_json(filename):\n",
    "    \n",
    "    tweets=[]\n",
    "    with open(filename, encoding=\"utf-8\") as file:\n",
    "        data=json.load(file)\n",
    "        for tweet in data:\n",
    "            created_at=tweet[\"created_at\"]\n",
    "            date = pd.to_datetime(created_at)\n",
    "            text=tweet[\"text\"]\n",
    "            tokens=nltk.casual_tokenize(text)\n",
    "            tweets.append((date, tokens))\n",
    "    return tweets"
   ]
  },
  {
   "cell_type": "code",
   "execution_count": 3,
   "metadata": {},
   "outputs": [],
   "source": [
    "# read in list of (date, tokens) tweets and count whether each tweet contains \n",
    "# a (lowercased) term in the argument dictionary.  Return as pandas dataframe\n",
    "# for easier slicing/plotting)\n",
    "def dictionary_document_count(data, dictionary):\n",
    "    counted=[]\n",
    "    for date, tokens in data:\n",
    "        val=0\n",
    "        for word in tokens:\n",
    "            if word.lower() in dictionary:\n",
    "                val=1\n",
    "        counted.append((date, val))\n",
    "    df=pd.DataFrame(counted, columns=['date','document frequency'])\n",
    "    return df"
   ]
  },
  {
   "cell_type": "code",
   "execution_count": 4,
   "metadata": {},
   "outputs": [],
   "source": [
    "tweets=read_tweets_from_json(\"../data/trump_tweets.json\")"
   ]
  },
  {
   "cell_type": "markdown",
   "metadata": {},
   "source": [
    "Here we'll define our own \"immigration\" dictionary by selecting words that we hypothesize are often found in the topic of immigration."
   ]
  },
  {
   "cell_type": "code",
   "execution_count": 5,
   "metadata": {},
   "outputs": [],
   "source": [
    "immigration_dictionary=set([\"wall\", \"border\", \"borders\", \"immigrants\",\"immigration\"])"
   ]
  },
  {
   "cell_type": "code",
   "execution_count": 6,
   "metadata": {},
   "outputs": [],
   "source": [
    "counts=dictionary_document_count(tweets, immigration_dictionary)"
   ]
  },
  {
   "cell_type": "code",
   "execution_count": null,
   "metadata": {},
   "outputs": [],
   "source": [
    "counts.head()"
   ]
  },
  {
   "cell_type": "code",
   "execution_count": 7,
   "metadata": {},
   "outputs": [],
   "source": [
    "def plot_time(counts):\n",
    "    \n",
    "    # for this exercise, let's just keep tweets published after 2015\n",
    "    counts=counts[(counts['date'] > '2015-01-01')]\n",
    "    \n",
    "    # counts is a pandas dataframe; let's aggregate the counts by month.  \n",
    "    # Can also aggregate by \"D\" for day, \"W\" for week, \"Y\" for year.\n",
    "    means=counts.resample('M', on='date').mean() \n",
    "    \n",
    "    means.plot()"
   ]
  },
  {
   "cell_type": "code",
   "execution_count": 9,
   "metadata": {},
   "outputs": [
    {
     "data": {
      "image/png": "[encoded data removed]",
      "text/plain": [
       "<Figure size 432x288 with 1 Axes>"
      ]
     },
     "metadata": {
      "needs_background": "light"
     },
     "output_type": "display_data"
    }
   ],
   "source": [
    "# You might need to run this command twice if you get a warning\n",
    "plot_time(counts)"
   ]
  },
  {
   "cell_type": "markdown",
   "metadata": {},
   "source": [
    "Q1: The AFINN dictionary is a sentiment lexicon, where words are rated on a five-point affect scale (-5 = most negative, 5 = most positive).  Write a function `read_AFINN_dictionary` to read in this file and create two dictionaries like that above -- one for positive terms and one for negative terms.  How did you decide the cutoff point for positive and negative?"
   ]
  },
  {
   "cell_type": "markdown",
   "metadata": {},
   "source": [
    "Answer: Since AFFINN is an established sentiment dictionaries labeled by researchers in the area, I decide to trust that the positive and negative scores follow certain defined standards. I validated it by reading through words that are at the boundary (with score 0, -1, 1) and I do feel 0 is a good boundary to distinguish the direction of connotation. However, since the dictionary is of general use, I would expect the number of positive and negative words to be balenced. But to my surprise, it is not the case. (as shown in the exploration code below). For now I decided to use 0 as the cutoff point."
   ]
  },
  {
   "cell_type": "code",
   "execution_count": 24,
   "metadata": {},
   "outputs": [],
   "source": [
    "## This is a helper function for my own exploration, the actual code is below\n",
    "def read_AFINN(filename):\n",
    "    alldict = {}\n",
    "    \n",
    "    with open(filename, \"r\") as file:\n",
    "        text_file = file.readlines()\n",
    "    \n",
    "    for line in text_file:\n",
    "        line = line.replace('\\n','') \n",
    "        word_ls = line.split('\\t')\n",
    "        vocab = word_ls[0]\n",
    "        score = int(word_ls[1])\n",
    "        alldict[vocab] = score     \n",
    "    return alldict"
   ]
  },
  {
   "cell_type": "code",
   "execution_count": 25,
   "metadata": {},
   "outputs": [],
   "source": [
    "alldict = read_AFINN(\"../data/AFINN-111.txt\")"
   ]
  },
  {
   "cell_type": "code",
   "execution_count": 38,
   "metadata": {},
   "outputs": [
    {
     "name": "stdout",
     "output_type": "stream",
     "text": [
      "879  words have positive scores in AFINN dictionary\n",
      "1598  words have negative scores in AFINN dictionary\n"
     ]
    }
   ],
   "source": [
    "print(len(list(filter(lambda x: x[1] >= 0, alldict.items()))), \" words have positive scores in AFINN dictionary\")\n",
    "print(len(list(filter(lambda x: x[1] < 0, alldict.items()))), \" words have negative scores in AFINN dictionary\")"
   ]
  },
  {
   "cell_type": "code",
   "execution_count": 12,
   "metadata": {},
   "outputs": [],
   "source": [
    "def read_AFINN_dictionary(filename):\n",
    "    positive=[]\n",
    "    negative=[]\n",
    "    \n",
    "    with open(filename, \"r\") as file:\n",
    "        text_file = file.readlines()\n",
    "    \n",
    "    for line in text_file:\n",
    "        line = line.replace('\\n','') ## remove new line character\n",
    "        word_ls = line.split('\\t')\n",
    "        vocab = word_ls[0]\n",
    "        score = int(word_ls[1])\n",
    "        if score >= 0: \n",
    "            positive.append(vocab)\n",
    "        else:\n",
    "            negative.append(vocab)    \n",
    "    return set(positive), set(negative)"
   ]
  },
  {
   "cell_type": "code",
   "execution_count": 13,
   "metadata": {},
   "outputs": [],
   "source": [
    "positive, negative=read_AFINN_dictionary(\"../data/AFINN-111.txt\")"
   ]
  },
  {
   "cell_type": "markdown",
   "metadata": {},
   "source": [
    "Q2: Create a plot (like that above) using the negative sentiment dictionary you created"
   ]
  },
  {
   "cell_type": "code",
   "execution_count": 16,
   "metadata": {},
   "outputs": [
    {
     "data": {
      "image/png": "[encoded data removed]",
      "text/plain": [
       "<Figure size 432x288 with 1 Axes>"
      ]
     },
     "metadata": {
      "needs_background": "light"
     },
     "output_type": "display_data"
    }
   ],
   "source": [
    "counts=dictionary_document_count(tweets, negative)\n",
    "plot_time(counts)"
   ]
  },
  {
   "cell_type": "markdown",
   "metadata": {},
   "source": [
    "Q3: Create a new dictionary of your own for a concept you'd like to measure in `trump_tweets.json` or `aoc_tweets.json`.  The dictionary must contain at least 10 terms; you're free to create one for any category (except sentiment!), so be creative--we'll be comparing these in class on Thursday. Create a plot using that dictionary and data below."
   ]
  },
  {
   "cell_type": "code",
   "execution_count": null,
   "metadata": {},
   "outputs": [],
   "source": [
    "CHINA_ISSUE_VOCAB = [\"china\", \"patent\", \"\", ]\n"
   ]
  },
  {
   "cell_type": "markdown",
   "metadata": {},
   "source": [
    "Q4 (check-plus): for each of the terms in your dictionary, write a function `print_examples(tweets, dictionary)` to find one tweet that contains that term and print it out for your inspection.  Is that term used in the same sense you expected?"
   ]
  },
  {
   "cell_type": "code",
   "execution_count": 50,
   "metadata": {},
   "outputs": [],
   "source": [
    "def print_examples(tweets, dictionary):\n",
    "    # your code here\n",
    "    for tweet in tweets:\n",
    "        for vocab in dictionary:\n",
    "            if vocab in tweet[1]:\n",
    "                print(\" \".join(tweet[1]))\n",
    "                return\n",
    "    return"
   ]
  },
  {
   "cell_type": "code",
   "execution_count": 51,
   "metadata": {
    "scrolled": true
   },
   "outputs": [
    {
     "name": "stdout",
     "output_type": "stream",
     "text": [
      "RT @realDonaldTrump : For decades , politicians promised to secure the border , fix our trade deals , bring back our factories , get tough on Ch …\n"
     ]
    }
   ],
   "source": [
    "print_examples(tweets, immigration_dictionary)"
   ]
  },
  {
   "cell_type": "code",
   "execution_count": null,
   "metadata": {},
   "outputs": [],
   "source": []
  }
 ],
 "metadata": {
  "kernelspec": {
   "display_name": "Python 3",
   "language": "python",
   "name": "python3"
  },
  "language_info": {
   "codemirror_mode": {
    "name": "ipython",
    "version": 3
   },
   "file_extension": ".py",
   "mimetype": "text/x-python",
   "name": "python",
   "nbconvert_exporter": "python",
   "pygments_lexer": "ipython3",
   "version": "3.6.4"
  }
 },
 "nbformat": 4,
 "nbformat_minor": 2
}
